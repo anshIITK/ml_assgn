{
  "nbformat": 4,
  "nbformat_minor": 0,
  "metadata": {
    "colab": {
      "provenance": [],
      "authorship_tag": "ABX9TyNOS+7AcJ0NjuUpjK1kkkzI",
      "include_colab_link": true
    },
    "kernelspec": {
      "name": "python3",
      "display_name": "Python 3"
    },
    "language_info": {
      "name": "python"
    }
  },
  "cells": [
    {
      "cell_type": "markdown",
      "metadata": {
        "id": "view-in-github",
        "colab_type": "text"
      },
      "source": [
        "<a href=\"https://colab.research.google.com/github/anshIITK/ml_assgn/blob/main/ML_Assgn_2.ipynb\" target=\"_parent\"><img src=\"https://colab.research.google.com/assets/colab-badge.svg\" alt=\"Open In Colab\"/></a>"
      ]
    },
    {
      "cell_type": "code",
      "execution_count": 69,
      "metadata": {
        "id": "PnMgScsp3KIY"
      },
      "outputs": [],
      "source": [
        "import numpy as np\n",
        "from sklearn.datasets import load_svmlight_file\n",
        "from sklearn.datasets import dump_svmlight_file\n",
        "from scipy import sparse as sps\n",
        "from sklearn import model_selection\n",
        "def loadData( filename, dictSize = 225 ):\n",
        "\tX, y = load_svmlight_file( filename, multilabel = False, n_features = dictSize, offset = 1 )\n",
        "\treturn (X, y)"
      ]
    },
    {
      "cell_type": "code",
      "source": [
        "dictSize = 225\n",
        "(X, y) = loadData( \"train\", dictSize = dictSize )"
      ],
      "metadata": {
        "id": "zVRuZ1rd-f_O"
      },
      "execution_count": 70,
      "outputs": []
    },
    {
      "cell_type": "code",
      "source": [
        "X = X.toarray()"
      ],
      "metadata": {
        "id": "5EsRBhz5_6C1"
      },
      "execution_count": 71,
      "outputs": []
    },
    {
      "cell_type": "code",
      "source": [
        "X"
      ],
      "metadata": {
        "colab": {
          "base_uri": "https://localhost:8080/"
        },
        "id": "ZLqgV-TiG6i4",
        "outputId": "8eba0016-713f-496c-8199-5dceb2a1e45f"
      },
      "execution_count": 72,
      "outputs": [
        {
          "output_type": "execute_result",
          "data": {
            "text/plain": [
              "array([[0., 0., 2., ..., 0., 0., 0.],\n",
              "       [0., 0., 0., ..., 0., 0., 0.],\n",
              "       [0., 0., 0., ..., 0., 0., 0.],\n",
              "       ...,\n",
              "       [0., 0., 0., ..., 0., 0., 0.],\n",
              "       [0., 0., 0., ..., 0., 0., 0.],\n",
              "       [0., 0., 0., ..., 0., 0., 0.]])"
            ]
          },
          "metadata": {},
          "execution_count": 72
        }
      ]
    },
    {
      "cell_type": "code",
      "source": [
        "y"
      ],
      "metadata": {
        "colab": {
          "base_uri": "https://localhost:8080/"
        },
        "id": "l8mk_SM8AITp",
        "outputId": "6bb9fa3a-c27e-4ee5-ecb5-c8ad04fe8d8b"
      },
      "execution_count": 73,
      "outputs": [
        {
          "output_type": "execute_result",
          "data": {
            "text/plain": [
              "array([ 1.,  2.,  4., ...,  2., 32.,  3.])"
            ]
          },
          "metadata": {},
          "execution_count": 73
        }
      ]
    },
    {
      "cell_type": "code",
      "source": [
        "X_train, X_test, y_train, y_test = model_selection.train_test_split(X,y, test_size=0.3)"
      ],
      "metadata": {
        "id": "H05haQMfCZED"
      },
      "execution_count": 74,
      "outputs": []
    },
    {
      "cell_type": "code",
      "source": [
        "X_train.shape"
      ],
      "metadata": {
        "colab": {
          "base_uri": "https://localhost:8080/"
        },
        "id": "TGHAWAPbFk2L",
        "outputId": "b1e81810-ee5e-4946-a04c-54e874fbb8bd"
      },
      "execution_count": 75,
      "outputs": [
        {
          "output_type": "execute_result",
          "data": {
            "text/plain": [
              "(7000, 225)"
            ]
          },
          "metadata": {},
          "execution_count": 75
        }
      ]
    },
    {
      "cell_type": "code",
      "source": [
        "y_train.shape"
      ],
      "metadata": {
        "colab": {
          "base_uri": "https://localhost:8080/"
        },
        "id": "iBGC_zXgFmlW",
        "outputId": "8f60127e-2692-4a34-aedb-698d4a01ed5c"
      },
      "execution_count": 76,
      "outputs": [
        {
          "output_type": "execute_result",
          "data": {
            "text/plain": [
              "(7000,)"
            ]
          },
          "metadata": {},
          "execution_count": 76
        }
      ]
    },
    {
      "cell_type": "code",
      "source": [
        "#Logistic Regresion\n",
        "from sklearn.linear_model import LogisticRegression\n",
        "obj = LogisticRegression(random_state=0, multi_class= 'ovr', solver='liblinear')\n",
        "obj.fit(X_train, y_train)\n",
        "obj.predict(X_test)\n",
        "obj.predict_proba(X_test)\n",
        "\n"
      ],
      "metadata": {
        "colab": {
          "base_uri": "https://localhost:8080/"
        },
        "id": "HzQNu087HYu6",
        "outputId": "9575ab31-21f7-442e-a2b9-47f97dfd42e1"
      },
      "execution_count": 86,
      "outputs": [
        {
          "output_type": "execute_result",
          "data": {
            "text/plain": [
              "array([[7.98942395e-03, 8.67341040e-01, 1.08367063e-02, ...,\n",
              "        9.74774500e-04, 8.43665271e-04, 2.30507376e-04],\n",
              "       [6.42971075e-01, 1.58203730e-04, 3.00886483e-01, ...,\n",
              "        8.22479551e-04, 1.81962275e-04, 1.55299621e-04],\n",
              "       [7.98942395e-03, 8.67341040e-01, 1.08367063e-02, ...,\n",
              "        9.74774500e-04, 8.43665271e-04, 2.30507376e-04],\n",
              "       ...,\n",
              "       [1.05686744e-02, 9.00538582e-02, 6.78950309e-03, ...,\n",
              "        1.02933989e-04, 1.54467401e-03, 1.78033508e-04],\n",
              "       [1.82789830e-01, 7.22508502e-01, 1.73350956e-03, ...,\n",
              "        2.08830391e-03, 3.00744687e-03, 1.65023694e-04],\n",
              "       [8.56698641e-03, 1.16553161e-01, 4.56679933e-03, ...,\n",
              "        1.09474397e-03, 4.96880454e-04, 3.74412777e-04]])"
            ]
          },
          "metadata": {},
          "execution_count": 86
        }
      ]
    },
    {
      "cell_type": "code",
      "source": [
        "obj.score(X_test, y_test)"
      ],
      "metadata": {
        "colab": {
          "base_uri": "https://localhost:8080/"
        },
        "id": "clLmAfDsLHgc",
        "outputId": "5b364408-174b-41f8-c9e3-61d04dee91e7"
      },
      "execution_count": 87,
      "outputs": [
        {
          "output_type": "execute_result",
          "data": {
            "text/plain": [
              "0.7803333333333333"
            ]
          },
          "metadata": {},
          "execution_count": 87
        }
      ]
    },
    {
      "cell_type": "code",
      "source": [
        "print(obj.coef_)"
      ],
      "metadata": {
        "colab": {
          "base_uri": "https://localhost:8080/"
        },
        "id": "AD0zJ6hPPdGc",
        "outputId": "062b1b28-70fd-451d-d82d-7aa6fa0bba52"
      },
      "execution_count": 83,
      "outputs": [
        {
          "output_type": "stream",
          "name": "stdout",
          "text": [
            "[[ 9.27553040e-01 -1.68715352e+00  1.09175691e+00 ... -2.80849282e-01\n",
            "  -4.89615601e-01 -1.23988175e+00]\n",
            " [-6.27294801e-01 -5.95163010e-01  2.46172238e-01 ... -1.02607954e-01\n",
            "  -2.99904783e+00  7.81313005e-01]\n",
            " [ 8.82676637e-02  1.33614922e-01 -8.19938809e-01 ... -2.95097595e-01\n",
            "   9.67715158e-02 -2.80694697e-01]\n",
            " ...\n",
            " [-2.08772026e-02 -2.31716030e-01 -8.52132665e-02 ... -1.43702517e-02\n",
            "  -1.84156037e-01  1.42077333e-01]\n",
            " [-1.73145823e-01 -4.33365054e-01 -2.53360540e-01 ... -1.00866546e-03\n",
            "  -1.88095090e-01  5.79376324e-01]\n",
            " [-6.37395491e-02 -3.19710886e-01 -1.31459640e+00 ... -2.58560866e-02\n",
            "  -1.99554948e-01  2.40897720e-02]]\n"
          ]
        }
      ]
    },
    {
      "cell_type": "code",
      "source": [
        "#Decision Tree Classifier\n",
        "from sklearn.tree import DecisionTreeClassifier\n",
        "dtree_model = DecisionTreeClassifier(max_depth=25)\n",
        "dtree_model.fit(X_train,y_train)\n",
        "dtree_model.predict(X_test)\n",
        "dtree_model.score(X_test, y_test)"
      ],
      "metadata": {
        "colab": {
          "base_uri": "https://localhost:8080/"
        },
        "id": "Ctvh3RwLW3yv",
        "outputId": "e89ddab4-b663-4833-b08f-43ffb620422d"
      },
      "execution_count": 99,
      "outputs": [
        {
          "output_type": "execute_result",
          "data": {
            "text/plain": [
              "0.7543333333333333"
            ]
          },
          "metadata": {},
          "execution_count": 99
        }
      ]
    },
    {
      "cell_type": "code",
      "source": [],
      "metadata": {
        "id": "HPR1tukIihlA"
      },
      "execution_count": null,
      "outputs": []
    }
  ]
}