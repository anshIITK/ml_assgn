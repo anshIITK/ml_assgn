{
  "cells": [
    {
      "cell_type": "code",
      "execution_count": 251,
      "id": "323e7370",
      "metadata": {
        "id": "323e7370"
      },
      "outputs": [],
      "source": [
        "import numpy as np\n",
        "from scipy.linalg import khatri_rao\n",
        "from sklearn.model_selection import train_test_split\n",
        "import random"
      ]
    },
    {
      "cell_type": "code",
      "execution_count": 252,
      "id": "bd36ee7d",
      "metadata": {
        "id": "bd36ee7d"
      },
      "outputs": [],
      "source": [
        "dataset = np.genfromtxt(\"/content/train.dat\")"
      ]
    },
    {
      "cell_type": "code",
      "execution_count": 253,
      "id": "0d7ee3b6",
      "metadata": {
        "colab": {
          "base_uri": "https://localhost:8080/"
        },
        "id": "0d7ee3b6",
        "outputId": "cfbe5424-b1df-4960-8f1d-4f4046137997"
      },
      "outputs": [
        {
          "output_type": "execute_result",
          "data": {
            "text/plain": [
              "(10000, 9)"
            ]
          },
          "metadata": {},
          "execution_count": 253
        }
      ],
      "source": [
        "dataset = np.array(dataset)\n",
        "dataset.shape"
      ]
    },
    {
      "cell_type": "code",
      "execution_count": 254,
      "id": "6444588e",
      "metadata": {
        "colab": {
          "base_uri": "https://localhost:8080/"
        },
        "id": "6444588e",
        "outputId": "034e7345-aadc-43d2-9441-a2f7221253b1"
      },
      "outputs": [
        {
          "output_type": "execute_result",
          "data": {
            "text/plain": [
              "array([ 1, -1,  1, ...,  1,  1,  1])"
            ]
          },
          "metadata": {},
          "execution_count": 254
        }
      ],
      "source": [
        "def get_lables(Y):\n",
        "    dataset = np.where(Y==0,-1, 1)\n",
        "    return dataset\n",
        "\n",
        "get_lables(dataset[:, -1])"
      ]
    },
    {
      "cell_type": "code",
      "execution_count": 255,
      "id": "7c7b1355",
      "metadata": {
        "id": "7c7b1355"
      },
      "outputs": [],
      "source": [
        "data_trn, data_tst = train_test_split(dataset, train_size=5000, random_state= 1)"
      ]
    },
    {
      "cell_type": "code",
      "execution_count": 256,
      "id": "3db54454",
      "metadata": {
        "id": "3db54454"
      },
      "outputs": [],
      "source": [
        "def add_bias(X):\n",
        "    X = np.c_[X, np.ones(X.shape[0])]\n",
        "    return X"
      ]
    },
    {
      "cell_type": "code",
      "execution_count": 257,
      "id": "521bdf7a",
      "metadata": {
        "id": "521bdf7a"
      },
      "outputs": [],
      "source": [
        "#get_lables(Y)\n",
        "#np.c_[np.array([[1,2],[3,4]]), np.ones(2)]"
      ]
    },
    {
      "cell_type": "code",
      "execution_count": 258,
      "id": "87db6ced",
      "metadata": {
        "id": "87db6ced"
      },
      "outputs": [],
      "source": [
        "def get_features(X):\n",
        "    print(type(X))\n",
        "    X_trans = X.T\n",
        "    X_prod = khatri_rao(X_trans, X_trans)\n",
        "    phi_X = khatri_rao(X_trans,X_prod)\n",
        "    phi_X = phi_X.T\n",
        "    return phi_X"
      ]
    },
    {
      "cell_type": "code",
      "execution_count": 259,
      "id": "a2e8c03d",
      "metadata": {
        "id": "a2e8c03d"
      },
      "outputs": [],
      "source": [
        "def create_Features(X):\n",
        "    return np.cumprod( np.flip( 2 * X - 1 , axis = 1 ), axis = 1 )"
      ]
    },
    {
      "cell_type": "code",
      "execution_count": 260,
      "id": "3bc289a4",
      "metadata": {
        "id": "3bc289a4"
      },
      "outputs": [],
      "source": [
        "def solver(X,y):\n",
        "    lr = 0.00001\n",
        "    n_iters= 2000\n",
        "    C= 50\n",
        "    w = 0\n",
        "    #b = 0\n",
        "    n_samples, n_features = X.shape\n",
        "    w = np.zeros(n_features)\n",
        "    #b = 0\n",
        "    \n",
        "    for _ in range(n_iters):\n",
        "      i = random.randint(0,X.shape[0]-1)\n",
        "        #for index, X_i in enumerate(X):\n",
        "      condition = y[i] * (np.dot(X[i], w)) >=1\n",
        "      if(condition):\n",
        "        w = w- lr * (C * w)\n",
        "      else:\n",
        "        w = w- lr * (C * w - np.dot(X[i], y[i]))\n",
        "    return w\n",
        "    "
      ]
    },
    {
      "cell_type": "code",
      "execution_count": 261,
      "id": "6272cc46",
      "metadata": {
        "colab": {
          "base_uri": "https://localhost:8080/"
        },
        "id": "6272cc46",
        "outputId": "486132c7-962e-4c8c-8b8d-e3f27f668a0b"
      },
      "outputs": [
        {
          "output_type": "stream",
          "name": "stdout",
          "text": [
            "<class 'numpy.ndarray'>\n"
          ]
        }
      ],
      "source": [
        "cf = create_Features(data_trn[:, :-1])\n",
        "#print(cf)\n",
        "phi_XG = get_features(add_bias(cf))\n",
        "#print(phi_XG)\n",
        "w = solver(phi_XG, data_trn[:, -1])\n",
        "#print(w)\n",
        "def mySVM(X):\n",
        "    y_pred = X.dot(w)\n",
        "    y_pred = np.where(y_pred >0, 1, -1)\n",
        "    return y_pred"
      ]
    },
    {
      "cell_type": "code",
      "execution_count": 262,
      "id": "2602fc62",
      "metadata": {
        "colab": {
          "base_uri": "https://localhost:8080/"
        },
        "id": "2602fc62",
        "outputId": "5b426173-46ce-428f-d1d4-6de660295b11"
      },
      "outputs": [
        {
          "output_type": "stream",
          "name": "stdout",
          "text": [
            "[1 1 1 ... 1 1 1]\n",
            "<class 'numpy.ndarray'>\n"
          ]
        },
        {
          "output_type": "execute_result",
          "data": {
            "text/plain": [
              "0.3894"
            ]
          },
          "metadata": {},
          "execution_count": 262
        }
      ],
      "source": [
        "y_pred = mySVM(phi_XG)\n",
        "#y_pred = np.where(y_pred >0, 1, -1)\n",
        "print(y_pred)\n",
        "cf_tst = create_Features(data_tst[:, :-1])\n",
        "phi_XG_tst = get_features(add_bias(cf_tst))\n",
        "\n",
        "np.average(data_tst[:, -1] == mySVM(phi_XG_tst))"
      ]
    },
    {
      "cell_type": "code",
      "execution_count": 262,
      "id": "8bb0706a",
      "metadata": {
        "id": "8bb0706a"
      },
      "outputs": [],
      "source": []
    }
  ],
  "metadata": {
    "kernelspec": {
      "display_name": "Python 3 (ipykernel)",
      "language": "python",
      "name": "python3"
    },
    "language_info": {
      "codemirror_mode": {
        "name": "ipython",
        "version": 3
      },
      "file_extension": ".py",
      "mimetype": "text/x-python",
      "name": "python",
      "nbconvert_exporter": "python",
      "pygments_lexer": "ipython3",
      "version": "3.9.12"
    },
    "colab": {
      "provenance": []
    }
  },
  "nbformat": 4,
  "nbformat_minor": 5
}